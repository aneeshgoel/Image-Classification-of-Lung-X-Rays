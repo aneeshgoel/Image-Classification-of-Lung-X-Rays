{
 "cells": [
  {
   "cell_type": "code",
   "execution_count": 1,
   "metadata": {},
   "outputs": [
    {
     "name": "stderr",
     "output_type": "stream",
     "text": [
      "Using TensorFlow backend.\n"
     ]
    }
   ],
   "source": [
    "from PIL import Image \n",
    "import numpy as np\n",
    "import os \n",
    "import imageio \n",
    "from random import shuffle\n",
    "import matplotlib.pyplot as plt"
   ]
  },
  {
   "cell_type": "code",
   "execution_count": null,
   "metadata": {},
   "outputs": [],
   "source": [
    "# Creating a dictionary with {image_id: label} structure \n",
    "cat_dict = {} \n",
    "f = open(\"Chest_xray_Corona_Metadata.csv\", \"r\")\n",
    "cont = f.read()\n",
    "cont = cont.split('\\n')\n",
    "for i in range(1,len(cont)-1):\n",
    "    cont[i] = cont[i].split(',')\n",
    "    cat_dict[cont[i][1]] = cont[i][2]"
   ]
  },
  {
   "cell_type": "code",
   "execution_count": null,
   "metadata": {},
   "outputs": [],
   "source": [
    "category = cat_dict.values()\n",
    "cat_set = set(category)\n",
    "label_count = {}\n",
    "for i in cat_set:\n",
    "    label_count[i] = 0\n"
   ]
  },
  {
   "cell_type": "code",
   "execution_count": null,
   "metadata": {},
   "outputs": [],
   "source": [
    "# Reading the images from the directory and saving the labelled image in labelled_train directory\n",
    "for img in os.listdir('./Coronahack-Chest-XRay-Dataset/Coronahack-Chest-XRay-Dataset/train'):\n",
    "    if cat_dict.get(img): # There were some images whose image_id did not exist in the csv\n",
    "        label_count[cat_dict.get(img)] += 1\n",
    "        path = os.path.join('./Coronahack-Chest-XRay-Dataset/Coronahack-Chest-XRay-Dataset/train', img)\n",
    "        saveName = './labeled_train/' + cat_dict.get(img) + '-' + str(label_count[cat_dict.get(img)]) + '.png'\n",
    "        image_data = np.array(Image.open(path))\n",
    "        imageio.imwrite(saveName, image_data)"
   ]
  },
  {
   "cell_type": "code",
   "execution_count": null,
   "metadata": {},
   "outputs": [],
   "source": [
    "# Doing the same for test images\n",
    "for img in os.listdir('./Coronahack-Chest-XRay-Dataset/Coronahack-Chest-XRay-Dataset/test'):\n",
    "    if cat_dict.get(img):\n",
    "        label_count[cat_dict.get(img)] += 1\n",
    "        path = os.path.join('./Coronahack-Chest-XRay-Dataset/Coronahack-Chest-XRay-Dataset/test', img)\n",
    "        saveName = './labeled_test/' + cat_dict.get(img) + '-' + str(label_count[cat_dict.get(img)]) + '.png'\n",
    "        image_data = np.array(Image.open(path))\n",
    "        imageio.imwrite(saveName, image_data)"
   ]
  },
  {
   "cell_type": "code",
   "execution_count": 1,
   "metadata": {},
   "outputs": [
    {
     "name": "stdout",
     "output_type": "stream",
     "text": [
      "Average Height: 971.3221717744987\n",
      "Max Height: 3480\n",
      "Min Height: 127\n",
      "\n",
      "\n",
      "Average Width: 1321.405221339387\n",
      "Max Width: 4248\n",
      "Min Width: 255\n"
     ]
    }
   ],
   "source": [
    "# Getting basic statistics about the training images\n",
    "DIR = './labeled_train'\n",
    "\n",
    "# Want to know how we should format the height x width image data dimensions\n",
    "# for inputting to a keras model\n",
    "def get_size_statistics():\n",
    "    heights = []\n",
    "    widths = []\n",
    "    img_count = 0\n",
    "    for img in os.listdir(DIR):\n",
    "        path = os.path.join(DIR, img)\n",
    "        if \"DS_Store\" not in path:\n",
    "            data = np.array(Image.open(path))\n",
    "            heights.append(data.shape[0])\n",
    "            widths.append(data.shape[1])\n",
    "            img_count += 1\n",
    "    avg_height = sum(heights) / len(heights)\n",
    "    avg_width = sum(widths) / len(widths)\n",
    "    print(\"Average Height: \" + str(avg_height))\n",
    "    print(\"Max Height: \" + str(max(heights)))\n",
    "    print(\"Min Height: \" + str(min(heights)))\n",
    "    print('\\n')\n",
    "    print(\"Average Width: \" + str(avg_width))\n",
    "    print(\"Max Width: \" + str(max(widths)))\n",
    "    print(\"Min Width: \" + str(min(widths)))\n",
    "\n",
    "get_size_statistics()\n"
   ]
  }
 ],
 "metadata": {
  "kernelspec": {
   "display_name": "Python 3",
   "language": "python",
   "name": "python3"
  },
  "language_info": {
   "codemirror_mode": {
    "name": "ipython",
    "version": 3
   },
   "file_extension": ".py",
   "mimetype": "text/x-python",
   "name": "python",
   "nbconvert_exporter": "python",
   "pygments_lexer": "ipython3",
   "version": "3.7.3"
  }
 },
 "nbformat": 4,
 "nbformat_minor": 2
}
